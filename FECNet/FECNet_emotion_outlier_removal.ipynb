{
  "nbformat": 4,
  "nbformat_minor": 0,
  "metadata": {
    "colab": {
      "name": "FECNet-emotion-outlier-removal.ipynb",
      "provenance": [],
      "collapsed_sections": []
    },
    "kernelspec": {
      "name": "python3",
      "display_name": "Python 3"
    },
    "accelerator": "GPU"
  },
  "cells": [
    {
      "cell_type": "code",
      "metadata": {
        "id": "_G0hrsaBCKjw",
        "colab_type": "code",
        "colab": {}
      },
      "source": [
        "%tensorflow_version 2.x"
      ],
      "execution_count": null,
      "outputs": []
    },
    {
      "cell_type": "code",
      "metadata": {
        "id": "UAAS95SrVwY9",
        "colab_type": "code",
        "colab": {
          "base_uri": "https://localhost:8080/",
          "height": 119
        },
        "outputId": "c196883d-820d-4cf3-f02a-2c9661e99719"
      },
      "source": [
        "import tensorflow as tf\n",
        "import timeit\n",
        "\n",
        "device_name = tf.test.gpu_device_name()\n",
        "if device_name != '/device:GPU:0':\n",
        "  print(\n",
        "      '\\n\\nThis error most likely means that this notebook is not '\n",
        "      'configured to use a GPU.  Change this in Notebook Settings via the '\n",
        "      'command palette (cmd/ctrl-shift-P) or the Edit menu.\\n\\n')\n",
        "  raise SystemError('GPU device not found')\n",
        "\n",
        "def cpu():\n",
        "  with tf.device('/cpu:0'):\n",
        "    random_image_cpu = tf.random.normal((100, 100, 100, 3))\n",
        "    net_cpu = tf.keras.layers.Conv2D(32, 7)(random_image_cpu)\n",
        "    return tf.math.reduce_sum(net_cpu)\n",
        "\n",
        "def gpu():\n",
        "  with tf.device('/device:GPU:0'):\n",
        "    random_image_gpu = tf.random.normal((100, 100, 100, 3))\n",
        "    net_gpu = tf.keras.layers.Conv2D(32, 7)(random_image_gpu)\n",
        "    return tf.math.reduce_sum(net_gpu)\n",
        "  \n",
        "# We run each op once to warm up; see: https://stackoverflow.com/a/45067900\n",
        "cpu()\n",
        "gpu()\n",
        "\n",
        "# Run the op several times.\n",
        "print('Time (s) to convolve 32x7x7x3 filter over random 100x100x100x3 images '\n",
        "      '(batch x height x width x channel). Sum of ten runs.')\n",
        "print('CPU (s):')\n",
        "cpu_time = timeit.timeit('cpu()', number=10, setup=\"from __main__ import cpu\")\n",
        "print(cpu_time)\n",
        "print('GPU (s):')\n",
        "gpu_time = timeit.timeit('gpu()', number=10, setup=\"from __main__ import gpu\")\n",
        "print(gpu_time)\n",
        "print('GPU speedup over CPU: {}x'.format(int(cpu_time/gpu_time)))"
      ],
      "execution_count": null,
      "outputs": [
        {
          "output_type": "stream",
          "text": [
            "Time (s) to convolve 32x7x7x3 filter over random 100x100x100x3 images (batch x height x width x channel). Sum of ten runs.\n",
            "CPU (s):\n",
            "3.8570508130000007\n",
            "GPU (s):\n",
            "0.17871584300007726\n",
            "GPU speedup over CPU: 21x\n"
          ],
          "name": "stdout"
        }
      ]
    },
    {
      "cell_type": "code",
      "metadata": {
        "id": "ZfQ8qO65ol0f",
        "colab_type": "code",
        "colab": {
          "base_uri": "https://localhost:8080/",
          "height": 122
        },
        "outputId": "74a97f85-eb22-4deb-b9b5-e8acc5dff92a"
      },
      "source": [
        "from google.colab import drive\n",
        "drive.mount('/content/drive')"
      ],
      "execution_count": null,
      "outputs": [
        {
          "output_type": "stream",
          "text": [
            "Go to this URL in a browser: https://accounts.google.com/o/oauth2/auth?client_id=947318989803-6bn6qk8qdgf4n4g3pfee6491hc0brc4i.apps.googleusercontent.com&redirect_uri=urn%3aietf%3awg%3aoauth%3a2.0%3aoob&scope=email%20https%3a%2f%2fwww.googleapis.com%2fauth%2fdocs.test%20https%3a%2f%2fwww.googleapis.com%2fauth%2fdrive%20https%3a%2f%2fwww.googleapis.com%2fauth%2fdrive.photos.readonly%20https%3a%2f%2fwww.googleapis.com%2fauth%2fpeopleapi.readonly&response_type=code\n",
            "\n",
            "Enter your authorization code:\n",
            "··········\n",
            "Mounted at /content/drive\n"
          ],
          "name": "stdout"
        }
      ]
    },
    {
      "cell_type": "code",
      "metadata": {
        "id": "7c4EvDifMW1d",
        "colab_type": "code",
        "colab": {}
      },
      "source": [
        "!tar -xf \"./drive/My Drive/Datasets/fer_4_classes.tar.xz\""
      ],
      "execution_count": null,
      "outputs": []
    },
    {
      "cell_type": "code",
      "metadata": {
        "id": "BIL6ZS1lCT8r",
        "colab_type": "code",
        "colab": {
          "base_uri": "https://localhost:8080/",
          "height": 34
        },
        "outputId": "53feee37-7d39-4dae-91bb-cc34e4cb5453"
      },
      "source": [
        "from __future__ import absolute_import, division, print_function, unicode_literals\n",
        "\n",
        "import os\n",
        "import csv\n",
        "\n",
        "import tensorflow as tf\n",
        "from tensorflow import keras\n",
        "from tensorflow.keras import layers\n",
        "import IPython.display as display\n",
        "from PIL import Image\n",
        "import numpy as np\n",
        "import matplotlib.pyplot as plt\n",
        "from tensorflow.keras.preprocessing.image import ImageDataGenerator\n",
        "import pandas as pd\n",
        "from scipy import stats\n",
        "import tensorflow_datasets as tfds\n",
        "\n",
        "print(tf.version.VERSION)"
      ],
      "execution_count": null,
      "outputs": [
        {
          "output_type": "stream",
          "text": [
            "2.3.0\n"
          ],
          "name": "stdout"
        }
      ]
    },
    {
      "cell_type": "code",
      "metadata": {
        "colab_type": "code",
        "id": "SiKo-qSNGdrc",
        "colab": {
          "base_uri": "https://localhost:8080/",
          "height": 1000
        },
        "outputId": "344584be-1fdb-49cf-8f38-71b1e2b844ea"
      },
      "source": [
        "FEC_base = keras.models.load_model(\"./drive/My Drive/Models/FEC/FEC_base\")\n",
        "FEC_base.summary()"
      ],
      "execution_count": null,
      "outputs": [
        {
          "output_type": "stream",
          "text": [
            "WARNING:tensorflow:No training configuration found in save file, so the model was *not* compiled. Compile it manually.\n",
            "Model: \"FEC_base\"\n",
            "__________________________________________________________________________________________________\n",
            "Layer (type)                    Output Shape         Param #     Connected to                     \n",
            "==================================================================================================\n",
            "input_1 (InputLayer)            [(None, 160, 160, 3) 0                                            \n",
            "__________________________________________________________________________________________________\n",
            "FaceNet_base (Functional)       (None, 8, 8, 896)    3406032     input_1[0][0]                    \n",
            "__________________________________________________________________________________________________\n",
            "conv2d (Conv2D)                 (None, 8, 8, 512)    458752      FaceNet_base[0][0]               \n",
            "__________________________________________________________________________________________________\n",
            "dense1_block1_0_bn (BatchNormal (None, 8, 8, 512)    2048        conv2d[0][0]                     \n",
            "__________________________________________________________________________________________________\n",
            "dense1_block1_0_relu (ReLU)     (None, 8, 8, 512)    0           dense1_block1_0_bn[0][0]         \n",
            "__________________________________________________________________________________________________\n",
            "dropout (Dropout)               (None, 8, 8, 512)    0           dense1_block1_0_relu[0][0]       \n",
            "__________________________________________________________________________________________________\n",
            "dense1_block1_1_conv (Conv2D)   (None, 8, 8, 256)    131072      dropout[0][0]                    \n",
            "__________________________________________________________________________________________________\n",
            "dense1_block1_1_bn (BatchNormal (None, 8, 8, 256)    1024        dense1_block1_1_conv[0][0]       \n",
            "__________________________________________________________________________________________________\n",
            "dense1_block1_1_relu (ReLU)     (None, 8, 8, 256)    0           dense1_block1_1_bn[0][0]         \n",
            "__________________________________________________________________________________________________\n",
            "dropout_1 (Dropout)             (None, 8, 8, 256)    0           dense1_block1_1_relu[0][0]       \n",
            "__________________________________________________________________________________________________\n",
            "dense1_block1_2_conv (Conv2D)   (None, 8, 8, 64)     147456      dropout_1[0][0]                  \n",
            "__________________________________________________________________________________________________\n",
            "dense1_block1_concat (Concatena (None, 8, 8, 576)    0           conv2d[0][0]                     \n",
            "                                                                 dense1_block1_2_conv[0][0]       \n",
            "__________________________________________________________________________________________________\n",
            "dense1_block2_0_bn (BatchNormal (None, 8, 8, 576)    2304        dense1_block1_concat[0][0]       \n",
            "__________________________________________________________________________________________________\n",
            "dense1_block2_0_relu (ReLU)     (None, 8, 8, 576)    0           dense1_block2_0_bn[0][0]         \n",
            "__________________________________________________________________________________________________\n",
            "dropout_2 (Dropout)             (None, 8, 8, 576)    0           dense1_block2_0_relu[0][0]       \n",
            "__________________________________________________________________________________________________\n",
            "dense1_block2_1_conv (Conv2D)   (None, 8, 8, 256)    147456      dropout_2[0][0]                  \n",
            "__________________________________________________________________________________________________\n",
            "dense1_block2_1_bn (BatchNormal (None, 8, 8, 256)    1024        dense1_block2_1_conv[0][0]       \n",
            "__________________________________________________________________________________________________\n",
            "dense1_block2_1_relu (ReLU)     (None, 8, 8, 256)    0           dense1_block2_1_bn[0][0]         \n",
            "__________________________________________________________________________________________________\n",
            "dropout_3 (Dropout)             (None, 8, 8, 256)    0           dense1_block2_1_relu[0][0]       \n",
            "__________________________________________________________________________________________________\n",
            "dense1_block2_2_conv (Conv2D)   (None, 8, 8, 64)     147456      dropout_3[0][0]                  \n",
            "__________________________________________________________________________________________________\n",
            "dense1_block2_concat (Concatena (None, 8, 8, 640)    0           dense1_block1_concat[0][0]       \n",
            "                                                                 dense1_block2_2_conv[0][0]       \n",
            "__________________________________________________________________________________________________\n",
            "dense1_block3_0_bn (BatchNormal (None, 8, 8, 640)    2560        dense1_block2_concat[0][0]       \n",
            "__________________________________________________________________________________________________\n",
            "dense1_block3_0_relu (ReLU)     (None, 8, 8, 640)    0           dense1_block3_0_bn[0][0]         \n",
            "__________________________________________________________________________________________________\n",
            "dropout_4 (Dropout)             (None, 8, 8, 640)    0           dense1_block3_0_relu[0][0]       \n",
            "__________________________________________________________________________________________________\n",
            "dense1_block3_1_conv (Conv2D)   (None, 8, 8, 256)    163840      dropout_4[0][0]                  \n",
            "__________________________________________________________________________________________________\n",
            "dense1_block3_1_bn (BatchNormal (None, 8, 8, 256)    1024        dense1_block3_1_conv[0][0]       \n",
            "__________________________________________________________________________________________________\n",
            "dense1_block3_1_relu (ReLU)     (None, 8, 8, 256)    0           dense1_block3_1_bn[0][0]         \n",
            "__________________________________________________________________________________________________\n",
            "dropout_5 (Dropout)             (None, 8, 8, 256)    0           dense1_block3_1_relu[0][0]       \n",
            "__________________________________________________________________________________________________\n",
            "dense1_block3_2_conv (Conv2D)   (None, 8, 8, 64)     147456      dropout_5[0][0]                  \n",
            "__________________________________________________________________________________________________\n",
            "dense1_block3_concat (Concatena (None, 8, 8, 704)    0           dense1_block2_concat[0][0]       \n",
            "                                                                 dense1_block3_2_conv[0][0]       \n",
            "__________________________________________________________________________________________________\n",
            "dense1_block4_0_bn (BatchNormal (None, 8, 8, 704)    2816        dense1_block3_concat[0][0]       \n",
            "__________________________________________________________________________________________________\n",
            "dense1_block4_0_relu (ReLU)     (None, 8, 8, 704)    0           dense1_block4_0_bn[0][0]         \n",
            "__________________________________________________________________________________________________\n",
            "dropout_6 (Dropout)             (None, 8, 8, 704)    0           dense1_block4_0_relu[0][0]       \n",
            "__________________________________________________________________________________________________\n",
            "dense1_block4_1_conv (Conv2D)   (None, 8, 8, 256)    180224      dropout_6[0][0]                  \n",
            "__________________________________________________________________________________________________\n",
            "dense1_block4_1_bn (BatchNormal (None, 8, 8, 256)    1024        dense1_block4_1_conv[0][0]       \n",
            "__________________________________________________________________________________________________\n",
            "dense1_block4_1_relu (ReLU)     (None, 8, 8, 256)    0           dense1_block4_1_bn[0][0]         \n",
            "__________________________________________________________________________________________________\n",
            "dropout_7 (Dropout)             (None, 8, 8, 256)    0           dense1_block4_1_relu[0][0]       \n",
            "__________________________________________________________________________________________________\n",
            "dense1_block4_2_conv (Conv2D)   (None, 8, 8, 64)     147456      dropout_7[0][0]                  \n",
            "__________________________________________________________________________________________________\n",
            "dense1_block4_concat (Concatena (None, 8, 8, 768)    0           dense1_block3_concat[0][0]       \n",
            "                                                                 dense1_block4_2_conv[0][0]       \n",
            "__________________________________________________________________________________________________\n",
            "dense1_block5_0_bn (BatchNormal (None, 8, 8, 768)    3072        dense1_block4_concat[0][0]       \n",
            "__________________________________________________________________________________________________\n",
            "dense1_block5_0_relu (ReLU)     (None, 8, 8, 768)    0           dense1_block5_0_bn[0][0]         \n",
            "__________________________________________________________________________________________________\n",
            "dropout_8 (Dropout)             (None, 8, 8, 768)    0           dense1_block5_0_relu[0][0]       \n",
            "__________________________________________________________________________________________________\n",
            "dense1_block5_1_conv (Conv2D)   (None, 8, 8, 256)    196608      dropout_8[0][0]                  \n",
            "__________________________________________________________________________________________________\n",
            "dense1_block5_1_bn (BatchNormal (None, 8, 8, 256)    1024        dense1_block5_1_conv[0][0]       \n",
            "__________________________________________________________________________________________________\n",
            "dense1_block5_1_relu (ReLU)     (None, 8, 8, 256)    0           dense1_block5_1_bn[0][0]         \n",
            "__________________________________________________________________________________________________\n",
            "dropout_9 (Dropout)             (None, 8, 8, 256)    0           dense1_block5_1_relu[0][0]       \n",
            "__________________________________________________________________________________________________\n",
            "dense1_block5_2_conv (Conv2D)   (None, 8, 8, 64)     147456      dropout_9[0][0]                  \n",
            "__________________________________________________________________________________________________\n",
            "dense1_block5_concat (Concatena (None, 8, 8, 832)    0           dense1_block4_concat[0][0]       \n",
            "                                                                 dense1_block5_2_conv[0][0]       \n",
            "__________________________________________________________________________________________________\n",
            "batch_normalization (BatchNorma (None, 8, 8, 832)    3328        dense1_block5_concat[0][0]       \n",
            "__________________________________________________________________________________________________\n",
            "re_lu (ReLU)                    (None, 8, 8, 832)    0           batch_normalization[0][0]        \n",
            "__________________________________________________________________________________________________\n",
            "global_average_pooling2d (Globa (None, 832)          0           re_lu[0][0]                      \n",
            "__________________________________________________________________________________________________\n",
            "dropout_10 (Dropout)            (None, 832)          0           global_average_pooling2d[0][0]   \n",
            "__________________________________________________________________________________________________\n",
            "dense (Dense)                   (None, 512)          426496      dropout_10[0][0]                 \n",
            "__________________________________________________________________________________________________\n",
            "batch_normalization_1 (BatchNor (None, 512)          2048        dense[0][0]                      \n",
            "__________________________________________________________________________________________________\n",
            "re_lu_1 (ReLU)                  (None, 512)          0           batch_normalization_1[0][0]      \n",
            "__________________________________________________________________________________________________\n",
            "dropout_11 (Dropout)            (None, 512)          0           re_lu_1[0][0]                    \n",
            "__________________________________________________________________________________________________\n",
            "dense_1 (Dense)                 (None, 16)           8208        dropout_11[0][0]                 \n",
            "__________________________________________________________________________________________________\n",
            "tf_op_layer_Square (TensorFlowO (None, 16)           0           dense_1[0][0]                    \n",
            "__________________________________________________________________________________________________\n",
            "tf_op_layer_Sum (TensorFlowOpLa (None, 1)            0           tf_op_layer_Square[0][0]         \n",
            "__________________________________________________________________________________________________\n",
            "tf_op_layer_Maximum (TensorFlow (None, 1)            0           tf_op_layer_Sum[0][0]            \n",
            "__________________________________________________________________________________________________\n",
            "tf_op_layer_Rsqrt (TensorFlowOp (None, 1)            0           tf_op_layer_Maximum[0][0]        \n",
            "__________________________________________________________________________________________________\n",
            "tf_op_layer_Mul (TensorFlowOpLa (None, 16)           0           dense_1[0][0]                    \n",
            "                                                                 tf_op_layer_Rsqrt[0][0]          \n",
            "==================================================================================================\n",
            "Total params: 5,879,264\n",
            "Trainable params: 0\n",
            "Non-trainable params: 5,879,264\n",
            "__________________________________________________________________________________________________\n"
          ],
          "name": "stdout"
        }
      ]
    },
    {
      "cell_type": "code",
      "metadata": {
        "id": "n2YdKH1JJy9U",
        "colab_type": "code",
        "colab": {}
      },
      "source": [
        "BATCH_SIZE = 32\n",
        "IMG_HEIGHT = 160\n",
        "IMG_WIDTH = 160\n",
        "IMG_SIZE = 160\n",
        "train_dir = \"./4 classes fer/train/\"\n",
        "test_dir = \"./4 classes fer/test/\"\n",
        "valid_dir = \"./4 classes fer/valid/\"\n",
        "angry_dir = train_dir + \"anger/\"\n",
        "happy_dir = train_dir + \"happiness/\"\n",
        "neutral_dir = train_dir + \"neutral/\"\n",
        "sad_dir = train_dir + \"sadness/\"\n",
        "\n",
        "angry_dir_test = test_dir + \"anger/\"\n",
        "happy_dir_test = test_dir + \"happiness/\"\n",
        "neutral_dir_test = test_dir + \"neutral/\"\n",
        "sad_dir_test = test_dir + \"sadness/\"\n",
        "\n",
        "angry_dir_valid = valid_dir + \"anger/\"\n",
        "happy_dir_valid = valid_dir + \"happiness/\"\n",
        "neutral_dir_valid = valid_dir + \"neutral/\"\n",
        "sad_dir_valid = valid_dir + \"sadness/\"\n",
        "\n",
        "CLASS_NAMES = np.array(['angry', 'happy', 'neutral', 'sad'])\n",
        "data_splits = np.array([\"train\", \"test\", \"valid\"])"
      ],
      "execution_count": null,
      "outputs": []
    },
    {
      "cell_type": "code",
      "metadata": {
        "id": "S12ZiJCkddFG",
        "colab_type": "code",
        "colab": {}
      },
      "source": [
        "AUTOTUNE = tf.data.experimental.AUTOTUNE"
      ],
      "execution_count": null,
      "outputs": []
    },
    {
      "cell_type": "code",
      "metadata": {
        "id": "SWktlHSKOwbD",
        "colab_type": "code",
        "colab": {}
      },
      "source": [
        "def prepare_for_training(ds, cache=True, shuffle_buffer_size=50000):\n",
        "  if cache:\n",
        "    if isinstance(cache, str):\n",
        "      ds = ds.cache(cache)\n",
        "    else:\n",
        "      ds = ds.cache()\n",
        "\n",
        "  ds = ds.shuffle(buffer_size=shuffle_buffer_size)\n",
        "  ds = ds.repeat()\n",
        "  ds = ds.batch(BATCH_SIZE)\n",
        "  ds = ds.prefetch(buffer_size=AUTOTUNE)\n",
        "\n",
        "  return ds"
      ],
      "execution_count": null,
      "outputs": []
    },
    {
      "cell_type": "code",
      "metadata": {
        "id": "aZnyIXnmoVGk",
        "colab_type": "code",
        "colab": {}
      },
      "source": [
        "fer_images = {\n",
        "    \"train\": {\n",
        "      'anger': [],\n",
        "      'happiness': [],\n",
        "      'neutral': [],\n",
        "      'sadness': []\n",
        "    },\n",
        "    \"test\": {\n",
        "      'anger': [],\n",
        "      'happiness': [],\n",
        "      'neutral': [],\n",
        "      'sadness': []\n",
        "    },\n",
        "    \"valid\": {\n",
        "      'anger': [],\n",
        "      'happiness': [],\n",
        "      'neutral': [],\n",
        "      'sadness': []\n",
        "    }\n",
        "}\n",
        "classes = {'anger', 'happiness', 'neutral', 'sadness'}\n",
        "\n",
        "for split in data_splits:\n",
        "  for class_name in classes:\n",
        "    parent = \"./4 classes fer/\" + split + \"/\" + class_name + \"/\"\n",
        "    for filename in os.listdir(parent):\n",
        "      im = np.array(Image.open(parent + filename).resize((IMG_SIZE, IMG_SIZE)), dtype=np.float16)\n",
        "      im = np.expand_dims(im, -1)\n",
        "      im = im / 255\n",
        "      im = np.tile(im, [1, 1, 3])\n",
        "      fer_images[split][class_name].append(im)\n",
        "\n",
        "for split in data_splits:\n",
        "  for class_name in classes:\n",
        "    fer_images[split][class_name] = np.array(fer_images[split][class_name])"
      ],
      "execution_count": null,
      "outputs": []
    },
    {
      "cell_type": "code",
      "metadata": {
        "id": "Qidh--4koVAt",
        "colab_type": "code",
        "colab": {
          "base_uri": "https://localhost:8080/",
          "height": 34
        },
        "outputId": "3354e21f-3f37-4f29-d53c-0109b8d91d90"
      },
      "source": [
        "fer_images[\"train\"][\"neutral\"].shape"
      ],
      "execution_count": null,
      "outputs": [
        {
          "output_type": "execute_result",
          "data": {
            "text/plain": [
              "(10295, 160, 160, 3)"
            ]
          },
          "metadata": {
            "tags": []
          },
          "execution_count": 7
        }
      ]
    },
    {
      "cell_type": "code",
      "metadata": {
        "id": "qVyfXLQyqPf7",
        "colab_type": "code",
        "colab": {}
      },
      "source": [
        "fer_emb = {\n",
        "    \"train\": {\n",
        "      'anger': [],\n",
        "      'happiness': [],\n",
        "      'neutral': [],\n",
        "      'sadness': []\n",
        "    },\n",
        "    \"test\": {\n",
        "      'anger': [],\n",
        "      'happiness': [],\n",
        "      'neutral': [],\n",
        "      'sadness': []\n",
        "    },\n",
        "    \"valid\": {\n",
        "      'anger': [],\n",
        "      'happiness': [],\n",
        "      'neutral': [],\n",
        "      'sadness': []\n",
        "    }\n",
        "}\n",
        "\n",
        "for split in data_splits:\n",
        "  for class_name in classes:\n",
        "    fer_emb[split][class_name] = FEC_base.predict(fer_images[split][class_name])\n",
        "    fer_images[split][class_name] = None"
      ],
      "execution_count": null,
      "outputs": []
    },
    {
      "cell_type": "code",
      "metadata": {
        "id": "4iljC7_hxlg8",
        "colab_type": "code",
        "colab": {
          "base_uri": "https://localhost:8080/",
          "height": 34
        },
        "outputId": "ef33d24d-bc7f-4928-b275-4d59ff6fb1cc"
      },
      "source": [
        "fer_emb[\"train\"][\"neutral\"].shape"
      ],
      "execution_count": null,
      "outputs": [
        {
          "output_type": "execute_result",
          "data": {
            "text/plain": [
              "(10295, 16)"
            ]
          },
          "metadata": {
            "tags": []
          },
          "execution_count": 9
        }
      ]
    },
    {
      "cell_type": "code",
      "metadata": {
        "id": "hwJ1IshiyhZ1",
        "colab_type": "code",
        "colab": {}
      },
      "source": [
        "fer_stats = {\n",
        "    'anger': {\n",
        "        'mean': 0,\n",
        "        'std-div': 0\n",
        "    },\n",
        "    'happiness': {\n",
        "        'mean': 0,\n",
        "        'std-div': 0\n",
        "    },\n",
        "    'neutral': {\n",
        "        'mean': 0,\n",
        "        'std-div': 0\n",
        "    },\n",
        "    'sadness': {\n",
        "        'mean': 0,\n",
        "        'std-div': 0\n",
        "    }\n",
        "  }"
      ],
      "execution_count": null,
      "outputs": []
    },
    {
      "cell_type": "code",
      "metadata": {
        "id": "eCunM6MHyhVu",
        "colab_type": "code",
        "colab": {}
      },
      "source": [
        "for class_name in classes:\n",
        "  fer_stats[class_name]['mean'] = np.mean(fer_emb[\"train\"][class_name], axis=0)\n",
        "  fer_stats[class_name]['std-div'] = np.std(fer_emb[\"train\"][class_name], axis=0)"
      ],
      "execution_count": null,
      "outputs": []
    },
    {
      "cell_type": "code",
      "metadata": {
        "id": "EfJ-RyfEz-m5",
        "colab_type": "code",
        "colab": {
          "base_uri": "https://localhost:8080/",
          "height": 153
        },
        "outputId": "36e2a605-4ee1-488d-b7d4-13a808933bc7"
      },
      "source": [
        "fer_stats[\"neutral\"]"
      ],
      "execution_count": null,
      "outputs": [
        {
          "output_type": "execute_result",
          "data": {
            "text/plain": [
              "{'mean': array([ 0.31841138,  0.2099056 , -0.26889798,  0.3670699 ,  0.26859215,\n",
              "         0.25925347, -0.18665399,  0.23738018,  0.13088176,  0.13340573,\n",
              "        -0.17154755, -0.15907727,  0.07033927, -0.17548266, -0.31484964,\n",
              "         0.22050314], dtype=float32),\n",
              " 'std-div': array([0.07877191, 0.11670666, 0.08263082, 0.05964399, 0.08023044,\n",
              "        0.09320825, 0.08059133, 0.05964437, 0.10181451, 0.07708932,\n",
              "        0.0955204 , 0.09775028, 0.08862077, 0.14068086, 0.13649794,\n",
              "        0.0845976 ], dtype=float32)}"
            ]
          },
          "metadata": {
            "tags": []
          },
          "execution_count": 12
        }
      ]
    },
    {
      "cell_type": "code",
      "metadata": {
        "id": "S_Mtnoec0bpI",
        "colab_type": "code",
        "colab": {}
      },
      "source": [
        "def get_zscore(x, class_n):\n",
        "  return np.divide(np.subtract(x, fer_stats[class_n][\"mean\"]), fer_stats[class_n][\"std-div\"])"
      ],
      "execution_count": null,
      "outputs": []
    },
    {
      "cell_type": "code",
      "metadata": {
        "id": "hf9KD3kr0biD",
        "colab_type": "code",
        "colab": {}
      },
      "source": [
        "fer_zscores = {\n",
        "    \"train\": {\n",
        "      'anger': [],\n",
        "      'happiness': [],\n",
        "      'neutral': [],\n",
        "      'sadness': []\n",
        "    },\n",
        "    \"test\": {\n",
        "      'anger': [],\n",
        "      'happiness': [],\n",
        "      'neutral': [],\n",
        "      'sadness': []\n",
        "    },\n",
        "    \"valid\": {\n",
        "      'anger': [],\n",
        "      'happiness': [],\n",
        "      'neutral': [],\n",
        "      'sadness': []\n",
        "    }\n",
        "}\n",
        "\n",
        "for split in data_splits:\n",
        "  for class_name in classes:\n",
        "    fer_zscores[split][class_name] = np.array([np.abs(get_zscore(im, class_name)) for im in fer_emb[split][class_name]])"
      ],
      "execution_count": null,
      "outputs": []
    },
    {
      "cell_type": "code",
      "metadata": {
        "id": "Pn5Nw7PY1gns",
        "colab_type": "code",
        "colab": {
          "base_uri": "https://localhost:8080/",
          "height": 34
        },
        "outputId": "e3a82680-c0ed-49d8-faf7-8a837466683e"
      },
      "source": [
        "fer_zscores[\"train\"][\"sadness\"].shape"
      ],
      "execution_count": null,
      "outputs": [
        {
          "output_type": "execute_result",
          "data": {
            "text/plain": [
              "(3530, 16)"
            ]
          },
          "metadata": {
            "tags": []
          },
          "execution_count": 15
        }
      ]
    },
    {
      "cell_type": "code",
      "metadata": {
        "id": "otPtFuaQ3Tqk",
        "colab_type": "code",
        "colab": {}
      },
      "source": [
        "fer_filters = {\n",
        "    \"train\": {\n",
        "      'anger': [],\n",
        "      'happiness': [],\n",
        "      'neutral': [],\n",
        "      'sadness': []\n",
        "    },\n",
        "    \"test\": {\n",
        "      'anger': [],\n",
        "      'happiness': [],\n",
        "      'neutral': [],\n",
        "      'sadness': []\n",
        "    },\n",
        "    \"valid\": {\n",
        "      'anger': [],\n",
        "      'happiness': [],\n",
        "      'neutral': [],\n",
        "      'sadness': []\n",
        "    }\n",
        "}\n",
        "\n",
        "for split in data_splits:\n",
        "  for class_name in classes:\n",
        "    fer_filters[split][class_name] = (np.stack(fer_zscores[split][class_name]) < 3).all(axis=1)"
      ],
      "execution_count": null,
      "outputs": []
    },
    {
      "cell_type": "code",
      "metadata": {
        "id": "IQPDBquz3y4K",
        "colab_type": "code",
        "colab": {}
      },
      "source": [
        "fer_emb_no_outliers = {\n",
        "    \"train\": {\n",
        "      'anger': [],\n",
        "      'happiness': [],\n",
        "      'neutral': [],\n",
        "      'sadness': []\n",
        "    },\n",
        "    \"test\": {\n",
        "      'anger': [],\n",
        "      'happiness': [],\n",
        "      'neutral': [],\n",
        "      'sadness': []\n",
        "    },\n",
        "    \"valid\": {\n",
        "      'anger': [],\n",
        "      'happiness': [],\n",
        "      'neutral': [],\n",
        "      'sadness': []\n",
        "    }\n",
        "}\n",
        "\n",
        "for split in data_splits:\n",
        "  for class_name in classes:\n",
        "    fer_emb_no_outliers[split][class_name] = fer_emb[split][class_name][fer_filters[split][class_name]]"
      ],
      "execution_count": null,
      "outputs": []
    },
    {
      "cell_type": "code",
      "metadata": {
        "id": "IybLuWpD4KtN",
        "colab_type": "code",
        "colab": {
          "base_uri": "https://localhost:8080/",
          "height": 238
        },
        "outputId": "b2036aad-bba9-4455-82e2-42b906694cbb"
      },
      "source": [
        "for split in data_splits:\n",
        "  split_size = 0\n",
        "  for class_name in classes:\n",
        "    print(split + \", \" + class_name)\n",
        "    print(fer_emb_no_outliers[split][class_name].shape, fer_emb[split][class_name].shape, sep=\", \")\n",
        "    split_size += fer_emb_no_outliers[split][class_name].shape[0]\n",
        "  if split == \"train\":\n",
        "    TRAIN_SIZE = split_size\n",
        "  elif split == \"valid\":\n",
        "    VALID_SIZE = split_size\n",
        "  else:\n",
        "    TEST_SIZE = split_size\n",
        "print(TRAIN_SIZE, VALID_SIZE, TEST_SIZE)"
      ],
      "execution_count": null,
      "outputs": [
        {
          "output_type": "stream",
          "text": [
            "train, anger\n",
            "train, sadness\n",
            "train, neutral\n",
            "train, happiness\n",
            "test, anger\n",
            "test, sadness\n",
            "test, neutral\n",
            "test, happiness\n",
            "valid, anger\n",
            "valid, sadness\n",
            "valid, neutral\n",
            "valid, happiness\n",
            "23005 2860 2844\n"
          ],
          "name": "stdout"
        }
      ]
    },
    {
      "cell_type": "code",
      "metadata": {
        "id": "JwylR8r0Ht-N",
        "colab_type": "code",
        "colab": {}
      },
      "source": [
        "class_to_one_hot = {\n",
        "    'anger': np.array([1,0,0,0]),\n",
        "    'happiness': np.array([0,1,0,0]),\n",
        "    'neutral': np.array([0,0,1,0]),\n",
        "    'sadness': np.array([0,0,0,0])\n",
        "}\n",
        "\n",
        "fer_ds = {\n",
        "    \"train\": None,\n",
        "    \"test\": None,\n",
        "    \"valid\": None\n",
        "}\n",
        "\n",
        "for split in data_splits:\n",
        "  class_arr = np.empty((0,16))\n",
        "  labels = np.empty((0,4))\n",
        "  for class_name in classes:\n",
        "    label = np.tile(np.expand_dims(class_to_one_hot[class_name], 0), [fer_emb_no_outliers[split][class_name].shape[0], 1])\n",
        "    labels = np.append(labels, label, axis=0)\n",
        "    class_arr = np.append(class_arr, fer_emb_no_outliers[split][class_name], axis=0)\n",
        "    print(class_arr.shape, labels.shape)\n",
        "  fer_ds[split] = tf.data.Dataset.from_tensor_slices((class_arr, labels))"
      ],
      "execution_count": null,
      "outputs": []
    },
    {
      "cell_type": "code",
      "metadata": {
        "id": "KZUwURgp6QNg",
        "colab_type": "code",
        "colab": {}
      },
      "source": [
        "for split in data_splits:\n",
        "  fer_ds[split] = prepare_for_training(fer_ds[split])"
      ],
      "execution_count": null,
      "outputs": []
    },
    {
      "cell_type": "code",
      "metadata": {
        "id": "0TYzMzEc1j6O",
        "colab_type": "code",
        "colab": {
          "base_uri": "https://localhost:8080/",
          "height": 289
        },
        "outputId": "928bf014-da8f-4f74-ff9b-9296e9cfaa6b"
      },
      "source": [
        "input_tensor = keras.layers.Input((16,))\n",
        "\n",
        "x = keras.layers.Dense(512, activation=\"relu\")(input_tensor)\n",
        "\n",
        "x = keras.layers.Dense(4, activation='softmax')(x)\n",
        "\n",
        "model = keras.Model(inputs=input_tensor, outputs=x, name=\"Emotion_Classifier\")\n",
        "\n",
        "model.summary()"
      ],
      "execution_count": null,
      "outputs": [
        {
          "output_type": "stream",
          "text": [
            "Model: \"Emotion_Classifier\"\n",
            "_________________________________________________________________\n",
            "Layer (type)                 Output Shape              Param #   \n",
            "=================================================================\n",
            "input_3 (InputLayer)         [(None, 160, 160, 3)]     0         \n",
            "_________________________________________________________________\n",
            "mobilenetv2_1.00_160 (Functi (None, 5, 5, 1280)        2257984   \n",
            "_________________________________________________________________\n",
            "dense (Dense)                (None, 5, 5, 512)         655872    \n",
            "_________________________________________________________________\n",
            "dense_1 (Dense)              (None, 5, 5, 4)           2052      \n",
            "=================================================================\n",
            "Total params: 2,915,908\n",
            "Trainable params: 2,881,796\n",
            "Non-trainable params: 34,112\n",
            "_________________________________________________________________\n"
          ],
          "name": "stdout"
        }
      ]
    },
    {
      "cell_type": "code",
      "metadata": {
        "id": "wqFVTYNfRpil",
        "colab_type": "code",
        "colab": {}
      },
      "source": [
        "steps_per_epoch = round(TRAIN_SIZE)//BATCH_SIZE\n",
        "valid_steps = round(VALID_SIZE)//BATCH_SIZE\n",
        "test_steps = round(TEST_SIZE)//BATCH_SIZE"
      ],
      "execution_count": null,
      "outputs": []
    },
    {
      "cell_type": "code",
      "metadata": {
        "id": "cHLuGp-gpJ3j",
        "colab_type": "code",
        "colab": {}
      },
      "source": [
        "model.compile(optimizer=tf.keras.optimizers.Adam(learning_rate=0.001),\n",
        "              loss=tf.keras.losses.CategoricalCrossentropy(),\n",
        "              metrics=['accuracy'])"
      ],
      "execution_count": null,
      "outputs": []
    },
    {
      "cell_type": "code",
      "metadata": {
        "id": "0MI_IVylst-P",
        "colab_type": "code",
        "colab": {
          "base_uri": "https://localhost:8080/",
          "height": 51
        },
        "outputId": "80f220d6-53a4-4351-c171-d564d5df7399"
      },
      "source": [
        "model.evaluate(fer_ds[\"test\"], steps=test_steps)"
      ],
      "execution_count": null,
      "outputs": [
        {
          "output_type": "stream",
          "text": [
            "89/89 [==============================] - 0s 3ms/step - loss: 1.1653 - accuracy: 0.1671\n"
          ],
          "name": "stdout"
        },
        {
          "output_type": "execute_result",
          "data": {
            "text/plain": [
              "[1.1653153896331787, 0.1671348363161087]"
            ]
          },
          "metadata": {
            "tags": []
          },
          "execution_count": 29
        }
      ]
    },
    {
      "cell_type": "code",
      "metadata": {
        "id": "PFz-K9Y-SCwQ",
        "colab_type": "code",
        "colab": {
          "base_uri": "https://localhost:8080/",
          "height": 1000
        },
        "outputId": "825f373e-0e70-41ca-9001-f64eba996037"
      },
      "source": [
        "callback = tf.keras.callbacks.EarlyStopping(monitor='val_loss', patience=20, restore_best_weights=True)\n",
        "\n",
        "history = model.fit(fer_ds[\"train\"],\n",
        "                    callbacks=[callback],\n",
        "                    steps_per_epoch=steps_per_epoch,\n",
        "                    epochs=250,\n",
        "                    validation_data=fer_ds[\"valid\"],\n",
        "                    validation_steps=valid_steps)\n",
        "model.evaluate(fer_ds[\"test\"], steps=test_steps)"
      ],
      "execution_count": null,
      "outputs": [
        {
          "output_type": "stream",
          "text": [
            "Epoch 1/250\n",
            "535/535 [==============================] - 2s 3ms/step - loss: 0.7710 - accuracy: 0.5018 - val_loss: 0.6782 - val_accuracy: 0.6239\n",
            "Epoch 2/250\n",
            "535/535 [==============================] - 2s 3ms/step - loss: 0.5565 - accuracy: 0.5750 - val_loss: 0.5734 - val_accuracy: 0.6654\n",
            "Epoch 3/250\n",
            "535/535 [==============================] - 2s 4ms/step - loss: 0.5052 - accuracy: 0.6078 - val_loss: 0.5540 - val_accuracy: 0.6977\n",
            "Epoch 4/250\n",
            "535/535 [==============================] - 2s 3ms/step - loss: 0.4835 - accuracy: 0.6296 - val_loss: 0.5029 - val_accuracy: 0.7142\n",
            "Epoch 5/250\n",
            "535/535 [==============================] - 2s 4ms/step - loss: 0.4710 - accuracy: 0.6384 - val_loss: 0.5090 - val_accuracy: 0.7138\n",
            "Epoch 6/250\n",
            "535/535 [==============================] - 2s 3ms/step - loss: 0.4647 - accuracy: 0.6383 - val_loss: 0.4873 - val_accuracy: 0.7047\n",
            "Epoch 7/250\n",
            "535/535 [==============================] - 2s 4ms/step - loss: 0.4591 - accuracy: 0.6422 - val_loss: 0.5117 - val_accuracy: 0.7075\n",
            "Epoch 8/250\n",
            "535/535 [==============================] - 2s 4ms/step - loss: 0.4560 - accuracy: 0.6446 - val_loss: 0.5446 - val_accuracy: 0.6819\n",
            "Epoch 9/250\n",
            "535/535 [==============================] - 2s 4ms/step - loss: 0.4538 - accuracy: 0.6445 - val_loss: 0.5008 - val_accuracy: 0.7044\n",
            "Epoch 10/250\n",
            "535/535 [==============================] - 2s 3ms/step - loss: 0.4524 - accuracy: 0.6466 - val_loss: 0.5088 - val_accuracy: 0.7079\n",
            "Epoch 11/250\n",
            "535/535 [==============================] - 2s 4ms/step - loss: 0.4500 - accuracy: 0.6467 - val_loss: 0.5024 - val_accuracy: 0.7022\n",
            "Epoch 12/250\n",
            "535/535 [==============================] - 2s 4ms/step - loss: 0.4507 - accuracy: 0.6464 - val_loss: 0.4934 - val_accuracy: 0.6935\n",
            "Epoch 13/250\n",
            "535/535 [==============================] - 2s 4ms/step - loss: 0.4494 - accuracy: 0.6483 - val_loss: 0.4756 - val_accuracy: 0.7254\n",
            "Epoch 14/250\n",
            "535/535 [==============================] - 2s 4ms/step - loss: 0.4482 - accuracy: 0.6468 - val_loss: 0.4925 - val_accuracy: 0.7135\n",
            "Epoch 15/250\n",
            "535/535 [==============================] - 2s 3ms/step - loss: 0.4489 - accuracy: 0.6484 - val_loss: 0.4971 - val_accuracy: 0.7033\n",
            "Epoch 16/250\n",
            "535/535 [==============================] - 2s 3ms/step - loss: 0.4492 - accuracy: 0.6443 - val_loss: 0.4506 - val_accuracy: 0.7093\n",
            "Epoch 17/250\n",
            "535/535 [==============================] - 2s 3ms/step - loss: 0.4483 - accuracy: 0.6491 - val_loss: 0.4875 - val_accuracy: 0.7082\n",
            "Epoch 18/250\n",
            "535/535 [==============================] - 2s 4ms/step - loss: 0.4474 - accuracy: 0.6465 - val_loss: 0.4986 - val_accuracy: 0.7022\n",
            "Epoch 19/250\n",
            "535/535 [==============================] - 2s 4ms/step - loss: 0.4471 - accuracy: 0.6457 - val_loss: 0.5134 - val_accuracy: 0.6671\n",
            "Epoch 20/250\n",
            "535/535 [==============================] - 2s 3ms/step - loss: 0.4471 - accuracy: 0.6480 - val_loss: 0.4663 - val_accuracy: 0.7307\n",
            "Epoch 21/250\n",
            "535/535 [==============================] - 2s 3ms/step - loss: 0.4477 - accuracy: 0.6480 - val_loss: 0.4697 - val_accuracy: 0.7247\n",
            "Epoch 22/250\n",
            "535/535 [==============================] - 2s 3ms/step - loss: 0.4490 - accuracy: 0.6467 - val_loss: 0.4578 - val_accuracy: 0.7135\n",
            "Epoch 23/250\n",
            "535/535 [==============================] - 2s 3ms/step - loss: 0.4458 - accuracy: 0.6464 - val_loss: 0.4817 - val_accuracy: 0.7107\n",
            "Epoch 24/250\n",
            "535/535 [==============================] - 2s 4ms/step - loss: 0.4463 - accuracy: 0.6454 - val_loss: 0.4478 - val_accuracy: 0.7314\n",
            "Epoch 25/250\n",
            "535/535 [==============================] - 2s 4ms/step - loss: 0.4473 - accuracy: 0.6492 - val_loss: 0.4928 - val_accuracy: 0.6935\n",
            "Epoch 26/250\n",
            "535/535 [==============================] - 2s 3ms/step - loss: 0.4459 - accuracy: 0.6502 - val_loss: 0.4835 - val_accuracy: 0.7149\n",
            "Epoch 27/250\n",
            "535/535 [==============================] - 2s 3ms/step - loss: 0.4472 - accuracy: 0.6490 - val_loss: 0.4572 - val_accuracy: 0.7061\n",
            "Epoch 28/250\n",
            "535/535 [==============================] - 2s 3ms/step - loss: 0.4454 - accuracy: 0.6482 - val_loss: 0.4705 - val_accuracy: 0.7121\n",
            "Epoch 29/250\n",
            "535/535 [==============================] - 2s 3ms/step - loss: 0.4463 - accuracy: 0.6492 - val_loss: 0.4856 - val_accuracy: 0.7156\n",
            "Epoch 30/250\n",
            "535/535 [==============================] - 2s 3ms/step - loss: 0.4456 - accuracy: 0.6465 - val_loss: 0.4363 - val_accuracy: 0.7310\n",
            "Epoch 31/250\n",
            "535/535 [==============================] - 2s 3ms/step - loss: 0.4462 - accuracy: 0.6490 - val_loss: 0.4630 - val_accuracy: 0.7086\n",
            "Epoch 32/250\n",
            "535/535 [==============================] - 2s 3ms/step - loss: 0.4482 - accuracy: 0.6461 - val_loss: 0.4869 - val_accuracy: 0.7117\n",
            "Epoch 33/250\n",
            "535/535 [==============================] - 2s 3ms/step - loss: 0.4484 - accuracy: 0.6458 - val_loss: 0.5158 - val_accuracy: 0.6928\n",
            "Epoch 34/250\n",
            "535/535 [==============================] - 2s 3ms/step - loss: 0.4456 - accuracy: 0.6471 - val_loss: 0.5003 - val_accuracy: 0.7145\n",
            "Epoch 35/250\n",
            "535/535 [==============================] - 2s 3ms/step - loss: 0.4471 - accuracy: 0.6479 - val_loss: 0.5092 - val_accuracy: 0.7107\n",
            "Epoch 36/250\n",
            "535/535 [==============================] - 2s 4ms/step - loss: 0.4469 - accuracy: 0.6487 - val_loss: 0.4995 - val_accuracy: 0.7152\n",
            "Epoch 37/250\n",
            "535/535 [==============================] - 2s 4ms/step - loss: 0.4462 - accuracy: 0.6472 - val_loss: 0.4849 - val_accuracy: 0.7037\n",
            "Epoch 38/250\n",
            "535/535 [==============================] - 2s 3ms/step - loss: 0.4465 - accuracy: 0.6485 - val_loss: 0.4765 - val_accuracy: 0.7226\n",
            "Epoch 39/250\n",
            "535/535 [==============================] - 2s 3ms/step - loss: 0.4454 - accuracy: 0.6459 - val_loss: 0.5078 - val_accuracy: 0.7089\n",
            "Epoch 40/250\n",
            "535/535 [==============================] - 2s 3ms/step - loss: 0.4496 - accuracy: 0.6460 - val_loss: 0.4400 - val_accuracy: 0.7338\n",
            "Epoch 41/250\n",
            "535/535 [==============================] - 2s 4ms/step - loss: 0.4465 - accuracy: 0.6449 - val_loss: 0.4259 - val_accuracy: 0.7268\n",
            "Epoch 42/250\n",
            "535/535 [==============================] - 2s 3ms/step - loss: 0.4470 - accuracy: 0.6480 - val_loss: 0.4835 - val_accuracy: 0.7044\n",
            "Epoch 43/250\n",
            "535/535 [==============================] - 2s 4ms/step - loss: 0.4471 - accuracy: 0.6505 - val_loss: 0.4473 - val_accuracy: 0.7135\n",
            "Epoch 44/250\n",
            "535/535 [==============================] - 2s 3ms/step - loss: 0.4456 - accuracy: 0.6458 - val_loss: 0.4602 - val_accuracy: 0.7258\n",
            "Epoch 45/250\n",
            "535/535 [==============================] - 2s 3ms/step - loss: 0.4466 - accuracy: 0.6463 - val_loss: 0.4667 - val_accuracy: 0.7124\n",
            "Epoch 46/250\n",
            "535/535 [==============================] - 2s 3ms/step - loss: 0.4493 - accuracy: 0.6467 - val_loss: 0.4431 - val_accuracy: 0.7177\n",
            "Epoch 47/250\n",
            "535/535 [==============================] - 2s 3ms/step - loss: 0.4503 - accuracy: 0.6459 - val_loss: 0.5051 - val_accuracy: 0.6977\n",
            "Epoch 48/250\n",
            "535/535 [==============================] - 2s 4ms/step - loss: 0.4478 - accuracy: 0.6463 - val_loss: 0.4657 - val_accuracy: 0.7258\n",
            "Epoch 49/250\n",
            "535/535 [==============================] - 2s 3ms/step - loss: 0.4498 - accuracy: 0.6450 - val_loss: 0.4426 - val_accuracy: 0.7321\n",
            "Epoch 50/250\n",
            "535/535 [==============================] - 2s 4ms/step - loss: 0.4462 - accuracy: 0.6488 - val_loss: 0.4313 - val_accuracy: 0.7198\n",
            "Epoch 51/250\n",
            "535/535 [==============================] - 2s 4ms/step - loss: 0.4482 - accuracy: 0.6472 - val_loss: 0.4774 - val_accuracy: 0.7047\n",
            "Epoch 52/250\n",
            "535/535 [==============================] - 2s 3ms/step - loss: 0.4512 - accuracy: 0.6443 - val_loss: 0.4555 - val_accuracy: 0.7331\n",
            "Epoch 53/250\n",
            "535/535 [==============================] - 2s 4ms/step - loss: 0.4491 - accuracy: 0.6488 - val_loss: 0.4643 - val_accuracy: 0.7159\n",
            "Epoch 54/250\n",
            "535/535 [==============================] - 2s 3ms/step - loss: 0.4500 - accuracy: 0.6451 - val_loss: 0.5396 - val_accuracy: 0.6942\n",
            "Epoch 55/250\n",
            "535/535 [==============================] - 2s 3ms/step - loss: 0.4467 - accuracy: 0.6480 - val_loss: 0.5008 - val_accuracy: 0.6970\n",
            "Epoch 56/250\n",
            "535/535 [==============================] - 2s 3ms/step - loss: 0.4479 - accuracy: 0.6466 - val_loss: 0.4390 - val_accuracy: 0.7324\n",
            "Epoch 57/250\n",
            "535/535 [==============================] - 2s 3ms/step - loss: 0.4485 - accuracy: 0.6474 - val_loss: 0.4211 - val_accuracy: 0.7159\n",
            "Epoch 58/250\n",
            "535/535 [==============================] - 2s 4ms/step - loss: 0.4490 - accuracy: 0.6449 - val_loss: 0.5661 - val_accuracy: 0.6369\n",
            "Epoch 59/250\n",
            "535/535 [==============================] - 2s 4ms/step - loss: 0.4479 - accuracy: 0.6494 - val_loss: 0.4642 - val_accuracy: 0.6966\n",
            "Epoch 60/250\n",
            "535/535 [==============================] - 2s 4ms/step - loss: 0.4474 - accuracy: 0.6446 - val_loss: 0.5441 - val_accuracy: 0.6794\n",
            "Epoch 61/250\n",
            "535/535 [==============================] - 2s 3ms/step - loss: 0.4487 - accuracy: 0.6458 - val_loss: 0.4162 - val_accuracy: 0.7331\n",
            "Epoch 62/250\n",
            "535/535 [==============================] - 2s 3ms/step - loss: 0.4470 - accuracy: 0.6455 - val_loss: 0.4694 - val_accuracy: 0.7244\n",
            "Epoch 63/250\n",
            "535/535 [==============================] - 2s 3ms/step - loss: 0.4513 - accuracy: 0.6484 - val_loss: 0.4097 - val_accuracy: 0.7212\n",
            "Epoch 64/250\n",
            "535/535 [==============================] - 2s 3ms/step - loss: 0.4465 - accuracy: 0.6450 - val_loss: 0.4746 - val_accuracy: 0.6998\n",
            "Epoch 65/250\n",
            "535/535 [==============================] - 2s 4ms/step - loss: 0.4512 - accuracy: 0.6451 - val_loss: 0.4615 - val_accuracy: 0.7114\n",
            "Epoch 66/250\n",
            "535/535 [==============================] - 2s 3ms/step - loss: 0.4491 - accuracy: 0.6433 - val_loss: 0.5011 - val_accuracy: 0.7149\n",
            "Epoch 67/250\n",
            "535/535 [==============================] - 2s 3ms/step - loss: 0.4489 - accuracy: 0.6483 - val_loss: 0.5068 - val_accuracy: 0.6864\n",
            "Epoch 68/250\n",
            "535/535 [==============================] - 2s 4ms/step - loss: 0.4487 - accuracy: 0.6473 - val_loss: 0.4993 - val_accuracy: 0.7058\n",
            "Epoch 69/250\n",
            "535/535 [==============================] - 2s 3ms/step - loss: 0.4503 - accuracy: 0.6436 - val_loss: 0.5420 - val_accuracy: 0.6394\n",
            "Epoch 70/250\n",
            "535/535 [==============================] - 2s 4ms/step - loss: 0.4508 - accuracy: 0.6450 - val_loss: 0.4263 - val_accuracy: 0.7353\n",
            "Epoch 71/250\n",
            "535/535 [==============================] - 2s 3ms/step - loss: 0.4476 - accuracy: 0.6466 - val_loss: 0.5004 - val_accuracy: 0.6721\n",
            "Epoch 72/250\n",
            "535/535 [==============================] - 2s 3ms/step - loss: 0.4517 - accuracy: 0.6437 - val_loss: 0.4682 - val_accuracy: 0.7293\n",
            "Epoch 73/250\n",
            "535/535 [==============================] - 2s 3ms/step - loss: 0.4483 - accuracy: 0.6446 - val_loss: 0.5400 - val_accuracy: 0.6622\n",
            "Epoch 74/250\n",
            "535/535 [==============================] - 2s 3ms/step - loss: 0.4471 - accuracy: 0.6504 - val_loss: 0.5646 - val_accuracy: 0.6956\n",
            "Epoch 75/250\n",
            "535/535 [==============================] - 2s 3ms/step - loss: 0.4533 - accuracy: 0.6425 - val_loss: 0.5327 - val_accuracy: 0.6766\n",
            "Epoch 76/250\n",
            "535/535 [==============================] - 2s 4ms/step - loss: 0.4489 - accuracy: 0.6475 - val_loss: 0.4412 - val_accuracy: 0.7159\n",
            "Epoch 77/250\n",
            "535/535 [==============================] - 2s 4ms/step - loss: 0.4460 - accuracy: 0.6512 - val_loss: 0.4433 - val_accuracy: 0.7335\n",
            "Epoch 78/250\n",
            "535/535 [==============================] - 2s 4ms/step - loss: 0.4463 - accuracy: 0.6477 - val_loss: 0.5408 - val_accuracy: 0.7019\n",
            "Epoch 79/250\n",
            "535/535 [==============================] - 2s 3ms/step - loss: 0.4531 - accuracy: 0.6425 - val_loss: 0.5353 - val_accuracy: 0.7019\n",
            "Epoch 80/250\n",
            "535/535 [==============================] - 2s 3ms/step - loss: 0.4528 - accuracy: 0.6462 - val_loss: 0.4308 - val_accuracy: 0.7398\n",
            "Epoch 81/250\n",
            "535/535 [==============================] - 2s 3ms/step - loss: 0.4494 - accuracy: 0.6433 - val_loss: 0.4267 - val_accuracy: 0.7356\n",
            "Epoch 82/250\n",
            "535/535 [==============================] - 2s 4ms/step - loss: 0.4530 - accuracy: 0.6407 - val_loss: 0.4497 - val_accuracy: 0.7170\n",
            "Epoch 83/250\n",
            "535/535 [==============================] - 2s 3ms/step - loss: 0.4479 - accuracy: 0.6482 - val_loss: 0.5087 - val_accuracy: 0.6499\n",
            "89/89 [==============================] - 0s 3ms/step - loss: 0.4111 - accuracy: 0.7117\n"
          ],
          "name": "stdout"
        },
        {
          "output_type": "execute_result",
          "data": {
            "text/plain": [
              "[0.4111473560333252, 0.711727499961853]"
            ]
          },
          "metadata": {
            "tags": []
          },
          "execution_count": 30
        }
      ]
    },
    {
      "cell_type": "code",
      "metadata": {
        "id": "TwtHy_YcO14K",
        "colab_type": "code",
        "colab": {
          "base_uri": "https://localhost:8080/",
          "height": 578
        },
        "outputId": "2cca56ef-8c0b-4bdf-d0e7-b8533a06283e"
      },
      "source": [
        "model.predict(fer_ds[\"valid\"].take(1))"
      ],
      "execution_count": null,
      "outputs": [
        {
          "output_type": "execute_result",
          "data": {
            "text/plain": [
              "array([[4.31537718e-01, 2.77942270e-01, 2.90003777e-01, 5.16251719e-04],\n",
              "       [4.29157615e-02, 1.33161604e-01, 8.23316574e-01, 6.06063404e-04],\n",
              "       [5.08528687e-02, 9.44647193e-01, 4.43047518e-03, 6.94425908e-05],\n",
              "       [2.21797638e-02, 6.27538189e-02, 9.14537668e-01, 5.28798555e-04],\n",
              "       [1.79459617e-01, 8.10590327e-01, 9.83931217e-03, 1.10728426e-04],\n",
              "       [2.65384875e-02, 3.34170014e-02, 9.39634144e-01, 4.10412118e-04],\n",
              "       [6.65517375e-02, 3.16833742e-02, 9.01388764e-01, 3.76045238e-04],\n",
              "       [1.94089152e-02, 4.53922786e-02, 9.34717476e-01, 4.81405790e-04],\n",
              "       [3.10499430e-01, 2.51204699e-01, 4.37767506e-01, 5.28327655e-04],\n",
              "       [1.80709466e-01, 9.53202471e-02, 7.23497927e-01, 4.72420012e-04],\n",
              "       [6.09926023e-02, 2.47252673e-01, 6.91071212e-01, 6.83547987e-04],\n",
              "       [9.17632226e-03, 9.85491157e-01, 5.26308967e-03, 6.94320479e-05],\n",
              "       [5.63087046e-01, 4.19166476e-01, 1.76207777e-02, 1.25738850e-04],\n",
              "       [6.03780113e-02, 1.95952296e-01, 7.42954493e-01, 7.15219358e-04],\n",
              "       [6.66496977e-02, 9.49135050e-02, 8.37938368e-01, 4.98425332e-04],\n",
              "       [1.60541534e-02, 2.25077160e-02, 9.61032867e-01, 4.05158993e-04],\n",
              "       [6.60648663e-03, 9.79771674e-01, 1.34863080e-02, 1.35648239e-04],\n",
              "       [5.61904609e-02, 1.19683482e-01, 8.23498368e-01, 6.27734640e-04],\n",
              "       [9.41809081e-03, 9.86820161e-01, 3.69990128e-03, 6.17770638e-05],\n",
              "       [3.37666948e-03, 9.88401592e-01, 8.12199153e-03, 9.97749012e-05],\n",
              "       [6.21360362e-01, 3.61111432e-01, 1.74170267e-02, 1.11163747e-04],\n",
              "       [3.64941180e-01, 5.83601594e-01, 5.12441471e-02, 2.13032879e-04],\n",
              "       [1.92804951e-02, 9.67645168e-01, 1.29443118e-02, 1.30006141e-04],\n",
              "       [3.84599268e-02, 6.97440207e-02, 8.91301990e-01, 4.94049571e-04],\n",
              "       [2.64399588e-01, 5.54159105e-01, 1.80966362e-01, 4.74943314e-04],\n",
              "       [5.89485988e-02, 4.60101999e-02, 8.94614041e-01, 4.27166990e-04],\n",
              "       [1.10233448e-01, 4.41378243e-02, 8.45315278e-01, 3.13349272e-04],\n",
              "       [3.35347243e-02, 3.02887037e-02, 9.35834706e-01, 3.41775827e-04],\n",
              "       [7.10806251e-02, 6.58191219e-02, 8.62563252e-01, 5.36908570e-04],\n",
              "       [5.91069579e-01, 3.87538284e-01, 2.12529227e-02, 1.39236421e-04],\n",
              "       [3.77572551e-02, 6.42586201e-02, 8.97519350e-01, 4.64737182e-04],\n",
              "       [2.54863519e-02, 2.68598683e-02, 9.47305501e-01, 3.48253117e-04]],\n",
              "      dtype=float32)"
            ]
          },
          "metadata": {
            "tags": []
          },
          "execution_count": 37
        }
      ]
    },
    {
      "cell_type": "code",
      "metadata": {
        "id": "khaX4UN-wB3z",
        "colab_type": "code",
        "colab": {
          "base_uri": "https://localhost:8080/",
          "height": 1000
        },
        "outputId": "e976f42e-ad9c-44dc-d1ae-4f6140649401"
      },
      "source": [
        "FECNet_Classifier = keras.Model(inputs=FEC_base.input, outputs=model(FEC_base.output))\n",
        "FECNet_Classifier.trainable = False\n",
        "FECNet_Classifier.summary()"
      ],
      "execution_count": null,
      "outputs": [
        {
          "output_type": "stream",
          "text": [
            "Model: \"functional_1\"\n",
            "__________________________________________________________________________________________________\n",
            "Layer (type)                    Output Shape         Param #     Connected to                     \n",
            "==================================================================================================\n",
            "input_1 (InputLayer)            [(None, 160, 160, 3) 0                                            \n",
            "__________________________________________________________________________________________________\n",
            "FaceNet_base (Functional)       (None, 8, 8, 896)    3406032     input_1[0][0]                    \n",
            "__________________________________________________________________________________________________\n",
            "conv2d (Conv2D)                 (None, 8, 8, 512)    458752      FaceNet_base[0][0]               \n",
            "__________________________________________________________________________________________________\n",
            "dense1_block1_0_bn (BatchNormal (None, 8, 8, 512)    2048        conv2d[0][0]                     \n",
            "__________________________________________________________________________________________________\n",
            "dense1_block1_0_relu (ReLU)     (None, 8, 8, 512)    0           dense1_block1_0_bn[0][0]         \n",
            "__________________________________________________________________________________________________\n",
            "dropout (Dropout)               (None, 8, 8, 512)    0           dense1_block1_0_relu[0][0]       \n",
            "__________________________________________________________________________________________________\n",
            "dense1_block1_1_conv (Conv2D)   (None, 8, 8, 256)    131072      dropout[0][0]                    \n",
            "__________________________________________________________________________________________________\n",
            "dense1_block1_1_bn (BatchNormal (None, 8, 8, 256)    1024        dense1_block1_1_conv[0][0]       \n",
            "__________________________________________________________________________________________________\n",
            "dense1_block1_1_relu (ReLU)     (None, 8, 8, 256)    0           dense1_block1_1_bn[0][0]         \n",
            "__________________________________________________________________________________________________\n",
            "dropout_1 (Dropout)             (None, 8, 8, 256)    0           dense1_block1_1_relu[0][0]       \n",
            "__________________________________________________________________________________________________\n",
            "dense1_block1_2_conv (Conv2D)   (None, 8, 8, 64)     147456      dropout_1[0][0]                  \n",
            "__________________________________________________________________________________________________\n",
            "dense1_block1_concat (Concatena (None, 8, 8, 576)    0           conv2d[0][0]                     \n",
            "                                                                 dense1_block1_2_conv[0][0]       \n",
            "__________________________________________________________________________________________________\n",
            "dense1_block2_0_bn (BatchNormal (None, 8, 8, 576)    2304        dense1_block1_concat[0][0]       \n",
            "__________________________________________________________________________________________________\n",
            "dense1_block2_0_relu (ReLU)     (None, 8, 8, 576)    0           dense1_block2_0_bn[0][0]         \n",
            "__________________________________________________________________________________________________\n",
            "dropout_2 (Dropout)             (None, 8, 8, 576)    0           dense1_block2_0_relu[0][0]       \n",
            "__________________________________________________________________________________________________\n",
            "dense1_block2_1_conv (Conv2D)   (None, 8, 8, 256)    147456      dropout_2[0][0]                  \n",
            "__________________________________________________________________________________________________\n",
            "dense1_block2_1_bn (BatchNormal (None, 8, 8, 256)    1024        dense1_block2_1_conv[0][0]       \n",
            "__________________________________________________________________________________________________\n",
            "dense1_block2_1_relu (ReLU)     (None, 8, 8, 256)    0           dense1_block2_1_bn[0][0]         \n",
            "__________________________________________________________________________________________________\n",
            "dropout_3 (Dropout)             (None, 8, 8, 256)    0           dense1_block2_1_relu[0][0]       \n",
            "__________________________________________________________________________________________________\n",
            "dense1_block2_2_conv (Conv2D)   (None, 8, 8, 64)     147456      dropout_3[0][0]                  \n",
            "__________________________________________________________________________________________________\n",
            "dense1_block2_concat (Concatena (None, 8, 8, 640)    0           dense1_block1_concat[0][0]       \n",
            "                                                                 dense1_block2_2_conv[0][0]       \n",
            "__________________________________________________________________________________________________\n",
            "dense1_block3_0_bn (BatchNormal (None, 8, 8, 640)    2560        dense1_block2_concat[0][0]       \n",
            "__________________________________________________________________________________________________\n",
            "dense1_block3_0_relu (ReLU)     (None, 8, 8, 640)    0           dense1_block3_0_bn[0][0]         \n",
            "__________________________________________________________________________________________________\n",
            "dropout_4 (Dropout)             (None, 8, 8, 640)    0           dense1_block3_0_relu[0][0]       \n",
            "__________________________________________________________________________________________________\n",
            "dense1_block3_1_conv (Conv2D)   (None, 8, 8, 256)    163840      dropout_4[0][0]                  \n",
            "__________________________________________________________________________________________________\n",
            "dense1_block3_1_bn (BatchNormal (None, 8, 8, 256)    1024        dense1_block3_1_conv[0][0]       \n",
            "__________________________________________________________________________________________________\n",
            "dense1_block3_1_relu (ReLU)     (None, 8, 8, 256)    0           dense1_block3_1_bn[0][0]         \n",
            "__________________________________________________________________________________________________\n",
            "dropout_5 (Dropout)             (None, 8, 8, 256)    0           dense1_block3_1_relu[0][0]       \n",
            "__________________________________________________________________________________________________\n",
            "dense1_block3_2_conv (Conv2D)   (None, 8, 8, 64)     147456      dropout_5[0][0]                  \n",
            "__________________________________________________________________________________________________\n",
            "dense1_block3_concat (Concatena (None, 8, 8, 704)    0           dense1_block2_concat[0][0]       \n",
            "                                                                 dense1_block3_2_conv[0][0]       \n",
            "__________________________________________________________________________________________________\n",
            "dense1_block4_0_bn (BatchNormal (None, 8, 8, 704)    2816        dense1_block3_concat[0][0]       \n",
            "__________________________________________________________________________________________________\n",
            "dense1_block4_0_relu (ReLU)     (None, 8, 8, 704)    0           dense1_block4_0_bn[0][0]         \n",
            "__________________________________________________________________________________________________\n",
            "dropout_6 (Dropout)             (None, 8, 8, 704)    0           dense1_block4_0_relu[0][0]       \n",
            "__________________________________________________________________________________________________\n",
            "dense1_block4_1_conv (Conv2D)   (None, 8, 8, 256)    180224      dropout_6[0][0]                  \n",
            "__________________________________________________________________________________________________\n",
            "dense1_block4_1_bn (BatchNormal (None, 8, 8, 256)    1024        dense1_block4_1_conv[0][0]       \n",
            "__________________________________________________________________________________________________\n",
            "dense1_block4_1_relu (ReLU)     (None, 8, 8, 256)    0           dense1_block4_1_bn[0][0]         \n",
            "__________________________________________________________________________________________________\n",
            "dropout_7 (Dropout)             (None, 8, 8, 256)    0           dense1_block4_1_relu[0][0]       \n",
            "__________________________________________________________________________________________________\n",
            "dense1_block4_2_conv (Conv2D)   (None, 8, 8, 64)     147456      dropout_7[0][0]                  \n",
            "__________________________________________________________________________________________________\n",
            "dense1_block4_concat (Concatena (None, 8, 8, 768)    0           dense1_block3_concat[0][0]       \n",
            "                                                                 dense1_block4_2_conv[0][0]       \n",
            "__________________________________________________________________________________________________\n",
            "dense1_block5_0_bn (BatchNormal (None, 8, 8, 768)    3072        dense1_block4_concat[0][0]       \n",
            "__________________________________________________________________________________________________\n",
            "dense1_block5_0_relu (ReLU)     (None, 8, 8, 768)    0           dense1_block5_0_bn[0][0]         \n",
            "__________________________________________________________________________________________________\n",
            "dropout_8 (Dropout)             (None, 8, 8, 768)    0           dense1_block5_0_relu[0][0]       \n",
            "__________________________________________________________________________________________________\n",
            "dense1_block5_1_conv (Conv2D)   (None, 8, 8, 256)    196608      dropout_8[0][0]                  \n",
            "__________________________________________________________________________________________________\n",
            "dense1_block5_1_bn (BatchNormal (None, 8, 8, 256)    1024        dense1_block5_1_conv[0][0]       \n",
            "__________________________________________________________________________________________________\n",
            "dense1_block5_1_relu (ReLU)     (None, 8, 8, 256)    0           dense1_block5_1_bn[0][0]         \n",
            "__________________________________________________________________________________________________\n",
            "dropout_9 (Dropout)             (None, 8, 8, 256)    0           dense1_block5_1_relu[0][0]       \n",
            "__________________________________________________________________________________________________\n",
            "dense1_block5_2_conv (Conv2D)   (None, 8, 8, 64)     147456      dropout_9[0][0]                  \n",
            "__________________________________________________________________________________________________\n",
            "dense1_block5_concat (Concatena (None, 8, 8, 832)    0           dense1_block4_concat[0][0]       \n",
            "                                                                 dense1_block5_2_conv[0][0]       \n",
            "__________________________________________________________________________________________________\n",
            "batch_normalization (BatchNorma (None, 8, 8, 832)    3328        dense1_block5_concat[0][0]       \n",
            "__________________________________________________________________________________________________\n",
            "re_lu (ReLU)                    (None, 8, 8, 832)    0           batch_normalization[0][0]        \n",
            "__________________________________________________________________________________________________\n",
            "global_average_pooling2d (Globa (None, 832)          0           re_lu[0][0]                      \n",
            "__________________________________________________________________________________________________\n",
            "dropout_10 (Dropout)            (None, 832)          0           global_average_pooling2d[0][0]   \n",
            "__________________________________________________________________________________________________\n",
            "dense (Dense)                   (None, 512)          426496      dropout_10[0][0]                 \n",
            "__________________________________________________________________________________________________\n",
            "batch_normalization_1 (BatchNor (None, 512)          2048        dense[0][0]                      \n",
            "__________________________________________________________________________________________________\n",
            "re_lu_1 (ReLU)                  (None, 512)          0           batch_normalization_1[0][0]      \n",
            "__________________________________________________________________________________________________\n",
            "dropout_11 (Dropout)            (None, 512)          0           re_lu_1[0][0]                    \n",
            "__________________________________________________________________________________________________\n",
            "dense_1 (Dense)                 (None, 16)           8208        dropout_11[0][0]                 \n",
            "__________________________________________________________________________________________________\n",
            "tf_op_layer_Square (TensorFlowO (None, 16)           0           dense_1[0][0]                    \n",
            "__________________________________________________________________________________________________\n",
            "tf_op_layer_Sum (TensorFlowOpLa (None, 1)            0           tf_op_layer_Square[0][0]         \n",
            "__________________________________________________________________________________________________\n",
            "tf_op_layer_Maximum (TensorFlow (None, 1)            0           tf_op_layer_Sum[0][0]            \n",
            "__________________________________________________________________________________________________\n",
            "tf_op_layer_Rsqrt (TensorFlowOp (None, 1)            0           tf_op_layer_Maximum[0][0]        \n",
            "__________________________________________________________________________________________________\n",
            "tf_op_layer_Mul (TensorFlowOpLa (None, 16)           0           dense_1[0][0]                    \n",
            "                                                                 tf_op_layer_Rsqrt[0][0]          \n",
            "__________________________________________________________________________________________________\n",
            "Emotion_Classifier (Functional) (None, 4)            10756       tf_op_layer_Mul[0][0]            \n",
            "==================================================================================================\n",
            "Total params: 5,890,020\n",
            "Trainable params: 0\n",
            "Non-trainable params: 5,890,020\n",
            "__________________________________________________________________________________________________\n"
          ],
          "name": "stdout"
        }
      ]
    },
    {
      "cell_type": "code",
      "metadata": {
        "id": "wKoDqlS5wil8",
        "colab_type": "code",
        "colab": {
          "base_uri": "https://localhost:8080/",
          "height": 51
        },
        "outputId": "a473c28a-eac6-417e-81f8-dc6d1fd0da42"
      },
      "source": [
        "test_dir = \"./4 classes fer/test/\"\n",
        "valid_dir = \"./4 classes fer/valid/\"\n",
        "\n",
        "data_generator = ImageDataGenerator(rescale = 1./255.)\n",
        "valid_data_gen = data_generator.flow_from_directory(batch_size=BATCH_SIZE,\n",
        "                                               directory=valid_dir,\n",
        "                                               shuffle=True,\n",
        "                                               target_size=(IMG_HEIGHT, IMG_WIDTH))\n",
        "test_data_gen = data_generator.flow_from_directory(batch_size=BATCH_SIZE,\n",
        "                                               directory=test_dir,\n",
        "                                               shuffle=True,\n",
        "                                               target_size=(IMG_HEIGHT, IMG_WIDTH))"
      ],
      "execution_count": null,
      "outputs": [
        {
          "output_type": "stream",
          "text": [
            "Found 2968 images belonging to 4 classes.\n",
            "Found 2953 images belonging to 4 classes.\n"
          ],
          "name": "stdout"
        }
      ]
    },
    {
      "cell_type": "code",
      "metadata": {
        "id": "qHI_4mf-w277",
        "colab_type": "code",
        "colab": {}
      },
      "source": [
        "num_valid = 2968\n",
        "num_test = 2953\n",
        "validation_steps = round(num_valid)//BATCH_SIZE\n",
        "test_steps = round(num_test)//BATCH_SIZE"
      ],
      "execution_count": null,
      "outputs": []
    },
    {
      "cell_type": "code",
      "metadata": {
        "id": "JFUJicqrxPCQ",
        "colab_type": "code",
        "colab": {}
      },
      "source": [
        "FECNet_Classifier.compile(optimizer=tf.keras.optimizers.Adam(learning_rate=0.001),\n",
        "              loss=tf.keras.losses.CategoricalCrossentropy(),\n",
        "              metrics=['accuracy'])"
      ],
      "execution_count": null,
      "outputs": []
    },
    {
      "cell_type": "code",
      "metadata": {
        "id": "qlYtxRrBaANl",
        "colab_type": "code",
        "colab": {
          "base_uri": "https://localhost:8080/",
          "height": 68
        },
        "outputId": "130ecd8a-ff3b-4961-8314-8b1559d7b178"
      },
      "source": [
        "FECNet_Classifier.evaluate(valid_data_gen, steps=validation_steps)\n",
        "FECNet_Classifier.evaluate(test_data_gen, steps=test_steps)"
      ],
      "execution_count": null,
      "outputs": [
        {
          "output_type": "stream",
          "text": [
            "92/92 [==============================] - 6s 66ms/step - loss: 2.5128 - accuracy: 0.6644\n",
            "92/92 [==============================] - 6s 65ms/step - loss: 2.6766 - accuracy: 0.6559\n"
          ],
          "name": "stdout"
        },
        {
          "output_type": "execute_result",
          "data": {
            "text/plain": [
              "[2.67659330368042, 0.655910313129425]"
            ]
          },
          "metadata": {
            "tags": []
          },
          "execution_count": 35
        }
      ]
    },
    {
      "cell_type": "code",
      "metadata": {
        "id": "ngukeBVpwTl8",
        "colab_type": "code",
        "colab": {}
      },
      "source": [
        "FECNet_Classifier.save(\"./drive/My Drive/Models/FECNet_fer_no_outliers_20_8.h5\")"
      ],
      "execution_count": null,
      "outputs": []
    },
    {
      "cell_type": "code",
      "metadata": {
        "id": "iynlnUBZ6fkx",
        "colab_type": "code",
        "colab": {}
      },
      "source": [
        ""
      ],
      "execution_count": null,
      "outputs": []
    }
  ]
}