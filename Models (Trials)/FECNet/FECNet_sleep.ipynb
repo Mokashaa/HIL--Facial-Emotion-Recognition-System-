{
  "nbformat": 4,
  "nbformat_minor": 0,
  "metadata": {
    "colab": {
      "name": "FECNet-sleep.ipynb",
      "provenance": [],
      "collapsed_sections": []
    },
    "kernelspec": {
      "name": "python3",
      "display_name": "Python 3"
    },
    "accelerator": "GPU"
  },
  "cells": [
    {
      "cell_type": "code",
      "metadata": {
        "id": "_G0hrsaBCKjw",
        "colab_type": "code",
        "colab": {}
      },
      "source": [
        "%tensorflow_version 2.x"
      ],
      "execution_count": null,
      "outputs": []
    },
    {
      "cell_type": "code",
      "metadata": {
        "id": "UAAS95SrVwY9",
        "colab_type": "code",
        "colab": {
          "base_uri": "https://localhost:8080/",
          "height": 119
        },
        "outputId": "f763fca6-a081-44db-a17e-ba48a52484bd"
      },
      "source": [
        "import tensorflow as tf\n",
        "import timeit\n",
        "\n",
        "device_name = tf.test.gpu_device_name()\n",
        "if device_name != '/device:GPU:0':\n",
        "  print(\n",
        "      '\\n\\nThis error most likely means that this notebook is not '\n",
        "      'configured to use a GPU.  Change this in Notebook Settings via the '\n",
        "      'command palette (cmd/ctrl-shift-P) or the Edit menu.\\n\\n')\n",
        "  raise SystemError('GPU device not found')\n",
        "\n",
        "def cpu():\n",
        "  with tf.device('/cpu:0'):\n",
        "    random_image_cpu = tf.random.normal((100, 100, 100, 3))\n",
        "    net_cpu = tf.keras.layers.Conv2D(32, 7)(random_image_cpu)\n",
        "    return tf.math.reduce_sum(net_cpu)\n",
        "\n",
        "def gpu():\n",
        "  with tf.device('/device:GPU:0'):\n",
        "    random_image_gpu = tf.random.normal((100, 100, 100, 3))\n",
        "    net_gpu = tf.keras.layers.Conv2D(32, 7)(random_image_gpu)\n",
        "    return tf.math.reduce_sum(net_gpu)\n",
        "  \n",
        "# We run each op once to warm up; see: https://stackoverflow.com/a/45067900\n",
        "cpu()\n",
        "gpu()\n",
        "\n",
        "# Run the op several times.\n",
        "print('Time (s) to convolve 32x7x7x3 filter over random 100x100x100x3 images '\n",
        "      '(batch x height x width x channel). Sum of ten runs.')\n",
        "print('CPU (s):')\n",
        "cpu_time = timeit.timeit('cpu()', number=10, setup=\"from __main__ import cpu\")\n",
        "print(cpu_time)\n",
        "print('GPU (s):')\n",
        "gpu_time = timeit.timeit('gpu()', number=10, setup=\"from __main__ import gpu\")\n",
        "print(gpu_time)\n",
        "print('GPU speedup over CPU: {}x'.format(int(cpu_time/gpu_time)))"
      ],
      "execution_count": null,
      "outputs": [
        {
          "output_type": "stream",
          "text": [
            "Time (s) to convolve 32x7x7x3 filter over random 100x100x100x3 images (batch x height x width x channel). Sum of ten runs.\n",
            "CPU (s):\n",
            "3.103607935999989\n",
            "GPU (s):\n",
            "0.1044341439999954\n",
            "GPU speedup over CPU: 29x\n"
          ],
          "name": "stdout"
        }
      ]
    },
    {
      "cell_type": "code",
      "metadata": {
        "id": "ZfQ8qO65ol0f",
        "colab_type": "code",
        "colab": {
          "base_uri": "https://localhost:8080/",
          "height": 122
        },
        "outputId": "2d8efb50-8581-4b85-b101-156e206d35af"
      },
      "source": [
        "from google.colab import drive\n",
        "drive.mount('/content/drive')"
      ],
      "execution_count": null,
      "outputs": [
        {
          "output_type": "stream",
          "text": [
            "Go to this URL in a browser: https://accounts.google.com/o/oauth2/auth?client_id=947318989803-6bn6qk8qdgf4n4g3pfee6491hc0brc4i.apps.googleusercontent.com&redirect_uri=urn%3aietf%3awg%3aoauth%3a2.0%3aoob&scope=email%20https%3a%2f%2fwww.googleapis.com%2fauth%2fdocs.test%20https%3a%2f%2fwww.googleapis.com%2fauth%2fdrive%20https%3a%2f%2fwww.googleapis.com%2fauth%2fdrive.photos.readonly%20https%3a%2f%2fwww.googleapis.com%2fauth%2fpeopleapi.readonly&response_type=code\n",
            "\n",
            "Enter your authorization code:\n",
            "··········\n",
            "Mounted at /content/drive\n"
          ],
          "name": "stdout"
        }
      ]
    },
    {
      "cell_type": "code",
      "metadata": {
        "id": "BIL6ZS1lCT8r",
        "colab_type": "code",
        "colab": {
          "base_uri": "https://localhost:8080/",
          "height": 34
        },
        "outputId": "16e6deb3-be5f-4ba9-9a7e-bb29d18122f1"
      },
      "source": [
        "from __future__ import absolute_import, division, print_function, unicode_literals\n",
        "\n",
        "import os\n",
        "import csv\n",
        "\n",
        "import tensorflow as tf\n",
        "from tensorflow import keras\n",
        "from tensorflow.keras import layers\n",
        "import IPython.display as display\n",
        "from PIL import Image\n",
        "import numpy as np\n",
        "import matplotlib.pyplot as plt\n",
        "from tensorflow.keras.preprocessing.image import ImageDataGenerator\n",
        "\n",
        "print(tf.version.VERSION)"
      ],
      "execution_count": null,
      "outputs": [
        {
          "output_type": "stream",
          "text": [
            "2.3.0\n"
          ],
          "name": "stdout"
        }
      ]
    },
    {
      "cell_type": "code",
      "metadata": {
        "id": "n2YdKH1JJy9U",
        "colab_type": "code",
        "colab": {}
      },
      "source": [
        "BATCH_SIZE = 64\n",
        "IMG_HEIGHT = 160\n",
        "IMG_WIDTH = 160\n",
        "IMG_SIZE = 160\n",
        "train_dir = \"./drive/My Drive/Datasets/FaceDataset\"\n",
        "CLASS_NAMES = np.array(['awake', 'sleep'])"
      ],
      "execution_count": null,
      "outputs": []
    },
    {
      "cell_type": "code",
      "metadata": {
        "id": "Zpg0aOitFBeI",
        "colab_type": "code",
        "colab": {}
      },
      "source": [
        "data_generator = ImageDataGenerator(rescale = 1./255.,\n",
        "                                    validation_split=0.2)"
      ],
      "execution_count": null,
      "outputs": []
    },
    {
      "cell_type": "code",
      "metadata": {
        "id": "vc0-bJJ4FOJ7",
        "colab_type": "code",
        "colab": {
          "base_uri": "https://localhost:8080/",
          "height": 51
        },
        "outputId": "eec15fb2-5f6b-42b4-ec25-a75fa49154cd"
      },
      "source": [
        "train_data_gen = data_generator.flow_from_directory(batch_size=BATCH_SIZE,\n",
        "                                               directory=train_dir,\n",
        "                                               shuffle=True,\n",
        "                                               target_size=(IMG_HEIGHT, IMG_WIDTH),\n",
        "                                               subset='training')\n",
        "valid_data_gen = data_generator.flow_from_directory(batch_size=BATCH_SIZE,\n",
        "                                               directory=train_dir,\n",
        "                                               shuffle=True,\n",
        "                                               target_size=(IMG_HEIGHT, IMG_WIDTH),\n",
        "                                               subset='validation')"
      ],
      "execution_count": null,
      "outputs": [
        {
          "output_type": "stream",
          "text": [
            "Found 1939 images belonging to 2 classes.\n",
            "Found 484 images belonging to 2 classes.\n"
          ],
          "name": "stdout"
        }
      ]
    },
    {
      "cell_type": "code",
      "metadata": {
        "colab_type": "code",
        "id": "SiKo-qSNGdrc",
        "colab": {
          "base_uri": "https://localhost:8080/",
          "height": 1000
        },
        "outputId": "110f79d2-c32a-455e-8670-9d32765637f1"
      },
      "source": [
        "FEC_base = keras.models.load_model(\"./drive/My Drive/Models/FEC/FEC_base\")\n",
        "FEC_base.summary()"
      ],
      "execution_count": null,
      "outputs": [
        {
          "output_type": "stream",
          "text": [
            "WARNING:tensorflow:No training configuration found in save file, so the model was *not* compiled. Compile it manually.\n",
            "Model: \"FEC_base\"\n",
            "__________________________________________________________________________________________________\n",
            "Layer (type)                    Output Shape         Param #     Connected to                     \n",
            "==================================================================================================\n",
            "input_1 (InputLayer)            [(None, 160, 160, 3) 0                                            \n",
            "__________________________________________________________________________________________________\n",
            "FaceNet_base (Functional)       (None, 8, 8, 896)    3406032     input_1[0][0]                    \n",
            "__________________________________________________________________________________________________\n",
            "conv2d (Conv2D)                 (None, 8, 8, 512)    458752      FaceNet_base[0][0]               \n",
            "__________________________________________________________________________________________________\n",
            "dense1_block1_0_bn (BatchNormal (None, 8, 8, 512)    2048        conv2d[0][0]                     \n",
            "__________________________________________________________________________________________________\n",
            "dense1_block1_0_relu (ReLU)     (None, 8, 8, 512)    0           dense1_block1_0_bn[0][0]         \n",
            "__________________________________________________________________________________________________\n",
            "dropout (Dropout)               (None, 8, 8, 512)    0           dense1_block1_0_relu[0][0]       \n",
            "__________________________________________________________________________________________________\n",
            "dense1_block1_1_conv (Conv2D)   (None, 8, 8, 256)    131072      dropout[0][0]                    \n",
            "__________________________________________________________________________________________________\n",
            "dense1_block1_1_bn (BatchNormal (None, 8, 8, 256)    1024        dense1_block1_1_conv[0][0]       \n",
            "__________________________________________________________________________________________________\n",
            "dense1_block1_1_relu (ReLU)     (None, 8, 8, 256)    0           dense1_block1_1_bn[0][0]         \n",
            "__________________________________________________________________________________________________\n",
            "dropout_1 (Dropout)             (None, 8, 8, 256)    0           dense1_block1_1_relu[0][0]       \n",
            "__________________________________________________________________________________________________\n",
            "dense1_block1_2_conv (Conv2D)   (None, 8, 8, 64)     147456      dropout_1[0][0]                  \n",
            "__________________________________________________________________________________________________\n",
            "dense1_block1_concat (Concatena (None, 8, 8, 576)    0           conv2d[0][0]                     \n",
            "                                                                 dense1_block1_2_conv[0][0]       \n",
            "__________________________________________________________________________________________________\n",
            "dense1_block2_0_bn (BatchNormal (None, 8, 8, 576)    2304        dense1_block1_concat[0][0]       \n",
            "__________________________________________________________________________________________________\n",
            "dense1_block2_0_relu (ReLU)     (None, 8, 8, 576)    0           dense1_block2_0_bn[0][0]         \n",
            "__________________________________________________________________________________________________\n",
            "dropout_2 (Dropout)             (None, 8, 8, 576)    0           dense1_block2_0_relu[0][0]       \n",
            "__________________________________________________________________________________________________\n",
            "dense1_block2_1_conv (Conv2D)   (None, 8, 8, 256)    147456      dropout_2[0][0]                  \n",
            "__________________________________________________________________________________________________\n",
            "dense1_block2_1_bn (BatchNormal (None, 8, 8, 256)    1024        dense1_block2_1_conv[0][0]       \n",
            "__________________________________________________________________________________________________\n",
            "dense1_block2_1_relu (ReLU)     (None, 8, 8, 256)    0           dense1_block2_1_bn[0][0]         \n",
            "__________________________________________________________________________________________________\n",
            "dropout_3 (Dropout)             (None, 8, 8, 256)    0           dense1_block2_1_relu[0][0]       \n",
            "__________________________________________________________________________________________________\n",
            "dense1_block2_2_conv (Conv2D)   (None, 8, 8, 64)     147456      dropout_3[0][0]                  \n",
            "__________________________________________________________________________________________________\n",
            "dense1_block2_concat (Concatena (None, 8, 8, 640)    0           dense1_block1_concat[0][0]       \n",
            "                                                                 dense1_block2_2_conv[0][0]       \n",
            "__________________________________________________________________________________________________\n",
            "dense1_block3_0_bn (BatchNormal (None, 8, 8, 640)    2560        dense1_block2_concat[0][0]       \n",
            "__________________________________________________________________________________________________\n",
            "dense1_block3_0_relu (ReLU)     (None, 8, 8, 640)    0           dense1_block3_0_bn[0][0]         \n",
            "__________________________________________________________________________________________________\n",
            "dropout_4 (Dropout)             (None, 8, 8, 640)    0           dense1_block3_0_relu[0][0]       \n",
            "__________________________________________________________________________________________________\n",
            "dense1_block3_1_conv (Conv2D)   (None, 8, 8, 256)    163840      dropout_4[0][0]                  \n",
            "__________________________________________________________________________________________________\n",
            "dense1_block3_1_bn (BatchNormal (None, 8, 8, 256)    1024        dense1_block3_1_conv[0][0]       \n",
            "__________________________________________________________________________________________________\n",
            "dense1_block3_1_relu (ReLU)     (None, 8, 8, 256)    0           dense1_block3_1_bn[0][0]         \n",
            "__________________________________________________________________________________________________\n",
            "dropout_5 (Dropout)             (None, 8, 8, 256)    0           dense1_block3_1_relu[0][0]       \n",
            "__________________________________________________________________________________________________\n",
            "dense1_block3_2_conv (Conv2D)   (None, 8, 8, 64)     147456      dropout_5[0][0]                  \n",
            "__________________________________________________________________________________________________\n",
            "dense1_block3_concat (Concatena (None, 8, 8, 704)    0           dense1_block2_concat[0][0]       \n",
            "                                                                 dense1_block3_2_conv[0][0]       \n",
            "__________________________________________________________________________________________________\n",
            "dense1_block4_0_bn (BatchNormal (None, 8, 8, 704)    2816        dense1_block3_concat[0][0]       \n",
            "__________________________________________________________________________________________________\n",
            "dense1_block4_0_relu (ReLU)     (None, 8, 8, 704)    0           dense1_block4_0_bn[0][0]         \n",
            "__________________________________________________________________________________________________\n",
            "dropout_6 (Dropout)             (None, 8, 8, 704)    0           dense1_block4_0_relu[0][0]       \n",
            "__________________________________________________________________________________________________\n",
            "dense1_block4_1_conv (Conv2D)   (None, 8, 8, 256)    180224      dropout_6[0][0]                  \n",
            "__________________________________________________________________________________________________\n",
            "dense1_block4_1_bn (BatchNormal (None, 8, 8, 256)    1024        dense1_block4_1_conv[0][0]       \n",
            "__________________________________________________________________________________________________\n",
            "dense1_block4_1_relu (ReLU)     (None, 8, 8, 256)    0           dense1_block4_1_bn[0][0]         \n",
            "__________________________________________________________________________________________________\n",
            "dropout_7 (Dropout)             (None, 8, 8, 256)    0           dense1_block4_1_relu[0][0]       \n",
            "__________________________________________________________________________________________________\n",
            "dense1_block4_2_conv (Conv2D)   (None, 8, 8, 64)     147456      dropout_7[0][0]                  \n",
            "__________________________________________________________________________________________________\n",
            "dense1_block4_concat (Concatena (None, 8, 8, 768)    0           dense1_block3_concat[0][0]       \n",
            "                                                                 dense1_block4_2_conv[0][0]       \n",
            "__________________________________________________________________________________________________\n",
            "dense1_block5_0_bn (BatchNormal (None, 8, 8, 768)    3072        dense1_block4_concat[0][0]       \n",
            "__________________________________________________________________________________________________\n",
            "dense1_block5_0_relu (ReLU)     (None, 8, 8, 768)    0           dense1_block5_0_bn[0][0]         \n",
            "__________________________________________________________________________________________________\n",
            "dropout_8 (Dropout)             (None, 8, 8, 768)    0           dense1_block5_0_relu[0][0]       \n",
            "__________________________________________________________________________________________________\n",
            "dense1_block5_1_conv (Conv2D)   (None, 8, 8, 256)    196608      dropout_8[0][0]                  \n",
            "__________________________________________________________________________________________________\n",
            "dense1_block5_1_bn (BatchNormal (None, 8, 8, 256)    1024        dense1_block5_1_conv[0][0]       \n",
            "__________________________________________________________________________________________________\n",
            "dense1_block5_1_relu (ReLU)     (None, 8, 8, 256)    0           dense1_block5_1_bn[0][0]         \n",
            "__________________________________________________________________________________________________\n",
            "dropout_9 (Dropout)             (None, 8, 8, 256)    0           dense1_block5_1_relu[0][0]       \n",
            "__________________________________________________________________________________________________\n",
            "dense1_block5_2_conv (Conv2D)   (None, 8, 8, 64)     147456      dropout_9[0][0]                  \n",
            "__________________________________________________________________________________________________\n",
            "dense1_block5_concat (Concatena (None, 8, 8, 832)    0           dense1_block4_concat[0][0]       \n",
            "                                                                 dense1_block5_2_conv[0][0]       \n",
            "__________________________________________________________________________________________________\n",
            "batch_normalization (BatchNorma (None, 8, 8, 832)    3328        dense1_block5_concat[0][0]       \n",
            "__________________________________________________________________________________________________\n",
            "re_lu (ReLU)                    (None, 8, 8, 832)    0           batch_normalization[0][0]        \n",
            "__________________________________________________________________________________________________\n",
            "global_average_pooling2d (Globa (None, 832)          0           re_lu[0][0]                      \n",
            "__________________________________________________________________________________________________\n",
            "dropout_10 (Dropout)            (None, 832)          0           global_average_pooling2d[0][0]   \n",
            "__________________________________________________________________________________________________\n",
            "dense (Dense)                   (None, 512)          426496      dropout_10[0][0]                 \n",
            "__________________________________________________________________________________________________\n",
            "batch_normalization_1 (BatchNor (None, 512)          2048        dense[0][0]                      \n",
            "__________________________________________________________________________________________________\n",
            "re_lu_1 (ReLU)                  (None, 512)          0           batch_normalization_1[0][0]      \n",
            "__________________________________________________________________________________________________\n",
            "dropout_11 (Dropout)            (None, 512)          0           re_lu_1[0][0]                    \n",
            "__________________________________________________________________________________________________\n",
            "dense_1 (Dense)                 (None, 16)           8208        dropout_11[0][0]                 \n",
            "__________________________________________________________________________________________________\n",
            "tf_op_layer_Square (TensorFlowO (None, 16)           0           dense_1[0][0]                    \n",
            "__________________________________________________________________________________________________\n",
            "tf_op_layer_Sum (TensorFlowOpLa (None, 1)            0           tf_op_layer_Square[0][0]         \n",
            "__________________________________________________________________________________________________\n",
            "tf_op_layer_Maximum (TensorFlow (None, 1)            0           tf_op_layer_Sum[0][0]            \n",
            "__________________________________________________________________________________________________\n",
            "tf_op_layer_Rsqrt (TensorFlowOp (None, 1)            0           tf_op_layer_Maximum[0][0]        \n",
            "__________________________________________________________________________________________________\n",
            "tf_op_layer_Mul (TensorFlowOpLa (None, 16)           0           dense_1[0][0]                    \n",
            "                                                                 tf_op_layer_Rsqrt[0][0]          \n",
            "==================================================================================================\n",
            "Total params: 5,879,264\n",
            "Trainable params: 0\n",
            "Non-trainable params: 5,879,264\n",
            "__________________________________________________________________________________________________\n"
          ],
          "name": "stdout"
        }
      ]
    },
    {
      "cell_type": "code",
      "metadata": {
        "colab_type": "code",
        "id": "n1XmL4tUEY5y",
        "colab": {
          "base_uri": "https://localhost:8080/",
          "height": 255
        },
        "outputId": "c49ed60f-7cde-4cde-d77e-bee2d4881c16"
      },
      "source": [
        "FEC_base.trainable = False\n",
        "model = keras.Sequential(layers=[\n",
        "                          FEC_base,\n",
        "                          layers.Dense(512, activation=\"relu\"),\n",
        "                          layers.Dense(2, activation='softmax')\n",
        "                          ], name=\"FECNet_Classifier\")\n",
        "model.summary()"
      ],
      "execution_count": null,
      "outputs": [
        {
          "output_type": "stream",
          "text": [
            "Model: \"FECNet_Classifier\"\n",
            "_________________________________________________________________\n",
            "Layer (type)                 Output Shape              Param #   \n",
            "=================================================================\n",
            "FEC_base (Functional)        (None, 16)                5879264   \n",
            "_________________________________________________________________\n",
            "dense (Dense)                (None, 512)               8704      \n",
            "_________________________________________________________________\n",
            "dense_1 (Dense)              (None, 2)                 1026      \n",
            "=================================================================\n",
            "Total params: 5,888,994\n",
            "Trainable params: 9,730\n",
            "Non-trainable params: 5,879,264\n",
            "_________________________________________________________________\n"
          ],
          "name": "stdout"
        }
      ]
    },
    {
      "cell_type": "code",
      "metadata": {
        "id": "wqFVTYNfRpil",
        "colab_type": "code",
        "colab": {}
      },
      "source": [
        "num_train = 1939\n",
        "num_valid = 484\n",
        "steps_per_epoch = round(num_train)//BATCH_SIZE\n",
        "validation_steps = round(num_valid)//BATCH_SIZE"
      ],
      "execution_count": null,
      "outputs": []
    },
    {
      "cell_type": "code",
      "metadata": {
        "id": "cHLuGp-gpJ3j",
        "colab_type": "code",
        "colab": {}
      },
      "source": [
        "model.compile(optimizer=tf.keras.optimizers.Adam(learning_rate=0.0001),\n",
        "              loss=tf.keras.losses.CategoricalCrossentropy(),\n",
        "              metrics=['accuracy'])"
      ],
      "execution_count": null,
      "outputs": []
    },
    {
      "cell_type": "code",
      "metadata": {
        "id": "PFz-K9Y-SCwQ",
        "colab_type": "code",
        "colab": {}
      },
      "source": [
        "callback = tf.keras.callbacks.EarlyStopping(monitor='val_loss', patience=10, restore_best_weights=True)\n",
        "\n",
        "history = model.fit(train_data_gen,\n",
        "                    callbacks=[callback],\n",
        "                    steps_per_epoch=steps_per_epoch,\n",
        "                    epochs=100,\n",
        "                    validation_data=valid_data_gen,\n",
        "                    validation_steps=validation_steps)\n",
        "model.save(\"./drive/My Drive/Models/FECNet_sleep_19_8.h5\")"
      ],
      "execution_count": null,
      "outputs": []
    },
    {
      "cell_type": "code",
      "metadata": {
        "id": "Q_J7eyIgfy4x",
        "colab_type": "code",
        "colab": {}
      },
      "source": [
        "model = tf.keras.models.load_model(\"./drive/My Drive/Models/FECNet_sleep_19_8.h5\")"
      ],
      "execution_count": null,
      "outputs": []
    },
    {
      "cell_type": "code",
      "metadata": {
        "id": "cBL45ynkL-6a",
        "colab_type": "code",
        "colab": {
          "base_uri": "https://localhost:8080/",
          "height": 34
        },
        "outputId": "17eecd6f-3e65-4f71-8a4d-17a07a056392"
      },
      "source": [
        "model.evaluate(train_data_gen, steps=steps_per_epoch)\n",
        "model.evaluate(valid_data_gen, steps=validation_steps)"
      ],
      "execution_count": null,
      "outputs": [
        {
          "output_type": "stream",
          "text": [
            " 9/30 [========>.....................] - ETA: 13:27 - loss: 0.1427 - accuracy: 0.9497"
          ],
          "name": "stdout"
        }
      ]
    },
    {
      "cell_type": "code",
      "metadata": {
        "id": "6facLHPlML9-",
        "colab_type": "code",
        "colab": {}
      },
      "source": [
        ""
      ],
      "execution_count": null,
      "outputs": []
    }
  ]
}